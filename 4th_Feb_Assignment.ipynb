{
 "cells": [
  {
   "cell_type": "code",
   "execution_count": 23,
   "id": "4d88eba3",
   "metadata": {},
   "outputs": [],
   "source": [
    "# ANSWER 1\n",
    "RUN = [(\"sachin tendulkar\",34357) ,('ricky ponting', 27483) , ('jack kallis',25534),('virat kohli',24936)]"
   ]
  },
  {
   "cell_type": "code",
   "execution_count": 24,
   "id": "2ec7a5cc",
   "metadata": {},
   "outputs": [
    {
     "data": {
      "text/plain": [
       "list"
      ]
     },
     "execution_count": 24,
     "metadata": {},
     "output_type": "execute_result"
    }
   ],
   "source": [
    "type(RUN)"
   ]
  },
  {
   "cell_type": "code",
   "execution_count": 26,
   "id": "dab2d5cb",
   "metadata": {},
   "outputs": [
    {
     "name": "stdout",
     "output_type": "stream",
     "text": [
      "\n",
      "Sorting the List of Tuple\n",
      "[('virat kohli', 24936), ('jack kallis', 25534), ('ricky ponting', 27483), ('sachin tendulkar', 34357)]\n"
     ]
    }
   ],
   "source": [
    "RUN.sort(key = lambda x: x[1])\n",
    "print(\"\\nSorting the List of Tuple\")\n",
    "print(RUN)"
   ]
  },
  {
   "cell_type": "code",
   "execution_count": 6,
   "id": "4097c126",
   "metadata": {},
   "outputs": [],
   "source": [
    "# ANSWER 2 : \n",
    "\n",
    "s = [1, 2, 3, 4, 5, 6, 7, 8, 9, 10]"
   ]
  },
  {
   "cell_type": "code",
   "execution_count": 7,
   "id": "bb9ffaff",
   "metadata": {},
   "outputs": [
    {
     "data": {
      "text/plain": [
       "[1, 4, 9, 16, 25, 36, 49, 64, 81, 100]"
      ]
     },
     "execution_count": 7,
     "metadata": {},
     "output_type": "execute_result"
    }
   ],
   "source": [
    "list(map(lambda x : x**2,s))"
   ]
  },
  {
   "cell_type": "code",
   "execution_count": 11,
   "id": "d6b073d9",
   "metadata": {},
   "outputs": [],
   "source": [
    "# ANSWER 3: \n",
    "y = [1, 2, 3, 4, 5, 6, 7, 8, 9, 10]"
   ]
  },
  {
   "cell_type": "code",
   "execution_count": 12,
   "id": "855e337f",
   "metadata": {},
   "outputs": [
    {
     "data": {
      "text/plain": [
       "['1', '2', '3', '4', '5', '6', '7', '8', '9', '10']"
      ]
     },
     "execution_count": 12,
     "metadata": {},
     "output_type": "execute_result"
    }
   ],
   "source": [
    "list(map(lambda x : str(x) , y))"
   ]
  },
  {
   "cell_type": "code",
   "execution_count": 13,
   "id": "fe17eb4e",
   "metadata": {},
   "outputs": [],
   "source": [
    "# ANSWER 4 : \n",
    "\n",
    "l = [1,2,3,4,5,6,7,8,9,10,11,12,13,14,15,16,17,18,19,20,21,22,23,24,25]"
   ]
  },
  {
   "cell_type": "code",
   "execution_count": 14,
   "id": "38568895",
   "metadata": {},
   "outputs": [],
   "source": [
    "from functools import reduce"
   ]
  },
  {
   "cell_type": "code",
   "execution_count": 15,
   "id": "d7ca3682",
   "metadata": {},
   "outputs": [
    {
     "data": {
      "text/plain": [
       "325"
      ]
     },
     "execution_count": 15,
     "metadata": {},
     "output_type": "execute_result"
    }
   ],
   "source": [
    "reduce(lambda x,y : x+y , l)"
   ]
  },
  {
   "cell_type": "code",
   "execution_count": 16,
   "id": "589ee6e3",
   "metadata": {},
   "outputs": [],
   "source": [
    "# ANSWER 5 : \n",
    "\n",
    "d = [2, 3, 6, 9, 27, 60, 90, 120, 55, 46]"
   ]
  },
  {
   "cell_type": "code",
   "execution_count": 17,
   "id": "dc4c966f",
   "metadata": {},
   "outputs": [
    {
     "data": {
      "text/plain": [
       "[2, 6, 60, 90, 120, 46]"
      ]
     },
     "execution_count": 17,
     "metadata": {},
     "output_type": "execute_result"
    }
   ],
   "source": [
    "list(filter(lambda x : x%2 ==0 , d))"
   ]
  },
  {
   "cell_type": "code",
   "execution_count": 18,
   "id": "c087d75f",
   "metadata": {},
   "outputs": [
    {
     "data": {
      "text/plain": [
       "[3, 6, 9, 27, 60, 90, 120]"
      ]
     },
     "execution_count": 18,
     "metadata": {},
     "output_type": "execute_result"
    }
   ],
   "source": [
    "list(filter(lambda x : x%3 == 0 ,d))"
   ]
  },
  {
   "cell_type": "code",
   "execution_count": 21,
   "id": "789a7026",
   "metadata": {},
   "outputs": [],
   "source": [
    "# ANSWER 6:\n",
    "l1 =['python', 'php', 'aba', 'radar', 'level']"
   ]
  },
  {
   "cell_type": "code",
   "execution_count": 22,
   "id": "4a8a2289",
   "metadata": {},
   "outputs": [
    {
     "name": "stdout",
     "output_type": "stream",
     "text": [
      "\n",
      "List of palindromes:\n",
      "['php', 'aba', 'radar', 'level']\n"
     ]
    }
   ],
   "source": [
    "result = list(filter(lambda x: (x == \"\".join(reversed(x))), l1)) \n",
    "print(\"\\nList of palindromes:\")\n",
    "print(result) \n"
   ]
  },
  {
   "cell_type": "code",
   "execution_count": null,
   "id": "0279581d",
   "metadata": {},
   "outputs": [],
   "source": []
  }
 ],
 "metadata": {
  "kernelspec": {
   "display_name": "Python 3 (ipykernel)",
   "language": "python",
   "name": "python3"
  },
  "language_info": {
   "codemirror_mode": {
    "name": "ipython",
    "version": 3
   },
   "file_extension": ".py",
   "mimetype": "text/x-python",
   "name": "python",
   "nbconvert_exporter": "python",
   "pygments_lexer": "ipython3",
   "version": "3.9.13"
  }
 },
 "nbformat": 4,
 "nbformat_minor": 5
}
